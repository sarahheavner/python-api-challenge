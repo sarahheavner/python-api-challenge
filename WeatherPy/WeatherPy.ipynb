{
 "cells": [
  {
   "cell_type": "code",
   "execution_count": 1,
   "metadata": {},
   "outputs": [],
   "source": [
    "#Import Dependencies\n",
    "import pandas as pd\n",
    "import json\n",
    "import requests\n",
    "import time\n",
    "import numpy as np\n",
    "import matplotlib.pyplot as plt\n",
    "from config import api_key\n"
   ]
  },
  {
   "cell_type": "code",
   "execution_count": 18,
   "metadata": {},
   "outputs": [
    {
     "data": {
      "text/plain": [
       "604"
      ]
     },
     "execution_count": 18,
     "metadata": {},
     "output_type": "execute_result"
    }
   ],
   "source": [
    "#Use CityPy to generate list of cities for weather data\n",
    "\n",
    "from citipy import citipy\n",
    "\n",
    "\n",
    "#Set latitude and longitude ranges \n",
    "\n",
    "latitide_range = (-90, 90)\n",
    "longitude_range = (-180, 180)\n",
    "\n",
    "\n",
    "#Set empty lists to hold city and coordinates\n",
    "coordinates = []\n",
    "city_list = []\n",
    "\n",
    "\n",
    "#Set random latitude and longitude coordinates\n",
    "lats = np.random.uniform(latitide_range[0], latitide_range[1], size=1500)\n",
    "lngs = np.random.uniform(longitude_range[0], longitude_range[1], size=1500)\n",
    "coordinates = zip(lats, lngs)\n",
    "\n",
    "\n",
    "#Use loop to select closest city to random coordinates\n",
    "for coordinates in coordinates:\n",
    "    city = citipy.nearest_city(coordinates[0], coordinates[1]).city_name\n",
    "    \n",
    "    #Add city to city list if unique\n",
    "    if city not in city_list:\n",
    "        city_list.append(city)\n",
    "        \n",
    "len(city_list)"
   ]
  },
  {
   "cell_type": "code",
   "execution_count": 14,
   "metadata": {},
   "outputs": [],
   "source": [
    "#Set URL config\n",
    "\n",
    "url = \"http://api.openweathermap.org/data/2.5/weather?\"\n",
    "units = \"imperial\"\n",
    "\n",
    "#Create partial URL with API key\n",
    "\n",
    "query_url = f'{url}appid={api_key}&units={units}&q='"
   ]
  },
  {
   "cell_type": "code",
   "execution_count": null,
   "metadata": {},
   "outputs": [],
   "source": [
    "#Create empty lists for necessary data\n",
    "#city = []\n",
    "latitude = []\n",
    "temperature = []\n",
    "humidity = []\n",
    "cloudiness = []\n",
    "wind_speed = []\n",
    "\n",
    "#Create variable to use in for loop that will return 500 random cities\n",
    "indices = random.sample(list(range(*)), 500)"
   ]
  },
  {
   "cell_type": "code",
   "execution_count": null,
   "metadata": {},
   "outputs": [],
   "source": [
    "#Create for loop to append above lists with weather data\n",
    "\n",
    "for x in range(len(indices)):\n",
    "    "
   ]
  }
 ],
 "metadata": {
  "kernelspec": {
   "display_name": "Python [conda env:PythonData] *",
   "language": "python",
   "name": "conda-env-PythonData-py"
  },
  "language_info": {
   "codemirror_mode": {
    "name": "ipython",
    "version": 3
   },
   "file_extension": ".py",
   "mimetype": "text/x-python",
   "name": "python",
   "nbconvert_exporter": "python",
   "pygments_lexer": "ipython3",
   "version": "3.7.1"
  }
 },
 "nbformat": 4,
 "nbformat_minor": 4
}
