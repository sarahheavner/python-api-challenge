{
 "cells": [
  {
   "cell_type": "markdown",
   "metadata": {},
   "source": [
    "WeatherPy Analysis\n",
    "     -Temperature has a strong correlation to proximity to the equator. The highest temperatures fall between -20 and 20 latitude.\n",
    "     -Wind Speed seems to be pretty pretty consistent throughout all latitudes, with a handful of cities that have higher wind speed\n",
    "     -Cloudiness does not seem to have a correlation with latitude"
   ]
  },
  {
   "cell_type": "code",
   "execution_count": 1,
   "metadata": {},
   "outputs": [],
   "source": [
    "#Import Dependencies\n",
    "import pandas as pd\n",
    "import requests\n",
    "import time\n",
    "import numpy as np\n",
    "import matplotlib.pyplot as plt\n",
    "from config import api_key\n",
    "from scipy.stats import linregress\n",
    "\n",
    "#Create Output File (CSV)\n",
    "output_data_file = \"output_data/cities.csv\""
   ]
  },
  {
   "cell_type": "code",
   "execution_count": 2,
   "metadata": {},
   "outputs": [
    {
     "data": {
      "text/plain": [
       "626"
      ]
     },
     "execution_count": 2,
     "metadata": {},
     "output_type": "execute_result"
    }
   ],
   "source": [
    "#Use CityPy to generate list of cities for weather data\n",
    "\n",
    "from citipy import citipy\n",
    "\n",
    "\n",
    "#Set latitude and longitude ranges \n",
    "\n",
    "latitide_range = (-90, 90)\n",
    "longitude_range = (-180, 180)\n",
    "\n",
    "\n",
    "#Set empty lists to hold city and coordinates\n",
    "coordinates = []\n",
    "cities = []\n",
    "\n",
    "#Set random latitude and longitude coordinates\n",
    "lats = np.random.uniform(latitide_range[0], latitide_range[1], size=1500)\n",
    "lngs = np.random.uniform(longitude_range[0], longitude_range[1], size=1500)\n",
    "coordinates = zip(lats, lngs)\n",
    "\n",
    "\n",
    "#Use loop to select closest city to random coordinates\n",
    "for coordinates in coordinates:\n",
    "    city = citipy.nearest_city(coordinates[0], coordinates[1]).city_name\n",
    "    \n",
    "    #Add city to city list if unique\n",
    "    if city not in cities:\n",
    "        cities.append(city)\n",
    "        \n",
    "len(cities)"
   ]
  },
  {
   "cell_type": "code",
   "execution_count": 3,
   "metadata": {},
   "outputs": [],
   "source": [
    "#Set URL config\n",
    "\n",
    "url = \"http://api.openweathermap.org/data/2.5/weather?\"\n",
    "units = \"Imperial\"\n",
    "\n",
    "#Create partial URL with API key\n",
    "\n",
    "query_url = f'{url}appid={api_key}&units={units}&q='\n"
   ]
  },
  {
   "cell_type": "code",
   "execution_count": 4,
   "metadata": {},
   "outputs": [
    {
     "name": "stdout",
     "output_type": "stream",
     "text": [
      "Beginning Data Retrieval\n",
      "------------------------\n",
      "Processing Record 1 | kodiak\n",
      "Processing Record 2 | mahebourg\n",
      "Processing Record 3 | mar del plata\n",
      "Processing Record 4 | gomel\n",
      "Processing Record 5 | hermanus\n",
      "Processing Record 6 | klaksvik\n",
      "Processing Record 7 | chernyshevskiy\n",
      "Processing Record 8 | lata\n",
      "Processing Record 9 | los llanos de aridane\n",
      "Processing Record 10 | airai\n",
      "Processing Record 11 | rikitea\n",
      "Processing Record 12 | roanoke rapids\n",
      "Processing Record 13 | qaanaaq\n",
      "City not found. Skipping...\n",
      "Processing Record 14 | bluff\n",
      "Processing Record 15 | belmonte\n",
      "Processing Record 16 | ribeira grande\n",
      "Processing Record 17 | pevek\n",
      "Processing Record 18 | payakumbuh\n",
      "Processing Record 19 | tuktoyaktuk\n",
      "Processing Record 20 | anloga\n",
      "Processing Record 21 | east london\n",
      "Processing Record 22 | constitucion\n",
      "Processing Record 23 | puerto ayora\n",
      "Processing Record 24 | kisangani\n",
      "Processing Record 25 | alofi\n",
      "Processing Record 26 | xining\n",
      "City not found. Skipping...\n",
      "Processing Record 27 | severo-kurilsk\n",
      "Processing Record 28 | cape town\n",
      "Processing Record 29 | barrow\n",
      "Processing Record 30 | bereda\n",
      "Processing Record 31 | puerto leguizamo\n",
      "Processing Record 32 | bereznik\n",
      "Processing Record 33 | mayo\n",
      "Processing Record 34 | yaan\n",
      "Processing Record 35 | bolnisi\n",
      "City not found. Skipping...\n",
      "Processing Record 36 | nanortalik\n",
      "Processing Record 37 | bloemfontein\n",
      "City not found. Skipping...\n",
      "Processing Record 38 | lompoc\n",
      "Processing Record 39 | hilo\n",
      "Processing Record 40 | puerto suarez\n",
      "Processing Record 41 | faanui\n",
      "City not found. Skipping...\n",
      "Processing Record 42 | lively\n",
      "Processing Record 43 | atuona\n",
      "Processing Record 44 | guaratinga\n",
      "Processing Record 45 | santa isabel\n",
      "Processing Record 46 | peruibe\n",
      "Processing Record 47 | cockburn town\n",
      "Processing Record 48 | ushuaia\n",
      "Processing Record 49 | lebu\n",
      "Processing Record 50 | segou\n",
      "Processing Record 51 | campbell river\n",
      "City not found. Skipping...\n",
      "City not found. Skipping...\n",
      "Processing Record 52 | evensk\n",
      "Processing Record 53 | jamestown\n",
      "Processing Record 54 | butaritari\n",
      "Processing Record 55 | la ronge\n",
      "Processing Record 56 | natitingou\n",
      "Processing Record 57 | bambous virieux\n",
      "Processing Record 58 | jacareacanga\n",
      "Processing Record 59 | russell\n",
      "Processing Record 60 | the valley\n",
      "Processing Record 61 | berlevag\n",
      "City not found. Skipping...\n",
      "Processing Record 62 | dikson\n",
      "Processing Record 63 | saint-augustin\n",
      "Processing Record 64 | provideniya\n",
      "Processing Record 65 | busselton\n",
      "City not found. Skipping...\n",
      "Processing Record 66 | pangnirtung\n",
      "Processing Record 67 | roald\n",
      "Processing Record 68 | shahr-e babak\n",
      "Processing Record 69 | maumere\n",
      "Processing Record 70 | albany\n",
      "Processing Record 71 | constantine\n",
      "Processing Record 72 | imeni poliny osipenko\n",
      "Processing Record 73 | vaini\n",
      "Processing Record 74 | thompson\n",
      "Processing Record 75 | port hawkesbury\n",
      "Processing Record 76 | grand gaube\n",
      "City not found. Skipping...\n",
      "Processing Record 77 | manicore\n",
      "Processing Record 78 | khatanga\n",
      "Processing Record 79 | lake charles\n",
      "Processing Record 80 | mataura\n",
      "Processing Record 81 | tamiahua\n",
      "Processing Record 82 | meulaboh\n",
      "Processing Record 83 | ichinohe\n",
      "Processing Record 84 | bredasdorp\n",
      "Processing Record 85 | fortuna\n",
      "Processing Record 86 | kosh-agach\n",
      "Processing Record 87 | acajutla\n",
      "Processing Record 88 | georgetown\n",
      "Processing Record 89 | hithadhoo\n",
      "Processing Record 90 | karratha\n",
      "Processing Record 91 | avarua\n",
      "City not found. Skipping...\n",
      "Processing Record 92 | batemans bay\n",
      "Processing Record 93 | teruel\n",
      "Processing Record 94 | kaputa\n",
      "Processing Record 95 | torbay\n",
      "Processing Record 96 | morristown\n",
      "Processing Record 97 | sale\n",
      "Processing Record 98 | hirara\n",
      "City not found. Skipping...\n",
      "Processing Record 99 | anta\n",
      "Processing Record 100 | bengkulu\n",
      "Processing Record 101 | cherskiy\n",
      "Processing Record 102 | artigas\n",
      "Processing Record 103 | san ignacio\n",
      "Processing Record 104 | whitehorse\n",
      "Processing Record 105 | kavaratti\n",
      "Processing Record 106 | sinnamary\n",
      "City not found. Skipping...\n",
      "Processing Record 107 | tasiilaq\n",
      "Processing Record 108 | baykit\n",
      "City not found. Skipping...\n",
      "Processing Record 109 | hobart\n",
      "Processing Record 110 | arraial do cabo\n",
      "Processing Record 111 | mumford\n",
      "Processing Record 112 | cobija\n",
      "Processing Record 113 | hami\n",
      "City not found. Skipping...\n",
      "Processing Record 114 | paita\n",
      "Processing Record 115 | palmer\n",
      "Processing Record 116 | kashin\n",
      "Processing Record 117 | havoysund\n",
      "Processing Record 118 | champaign\n",
      "Processing Record 119 | yellowknife\n",
      "Processing Record 120 | deputatskiy\n",
      "Processing Record 121 | saint george\n",
      "Processing Record 122 | aasiaat\n",
      "Processing Record 123 | madera\n",
      "Processing Record 124 | kapaa\n",
      "Processing Record 125 | chamalieres\n",
      "Processing Record 126 | tazovskiy\n",
      "Processing Record 127 | fairbanks\n",
      "Processing Record 128 | noumea\n",
      "Processing Record 129 | kutum\n",
      "Processing Record 130 | sao filipe\n",
      "Processing Record 131 | sitka\n",
      "Processing Record 132 | bom jesus\n",
      "Processing Record 133 | oranjestad\n",
      "Processing Record 134 | enshi\n",
      "Processing Record 135 | harper\n",
      "Processing Record 136 | mazamet\n",
      "Processing Record 137 | san isidro\n",
      "Processing Record 138 | port alfred\n",
      "Processing Record 139 | punta arenas\n",
      "Processing Record 140 | victoria\n",
      "Processing Record 141 | mananjary\n",
      "Processing Record 142 | balakovo\n",
      "Processing Record 143 | oeiras do para\n",
      "Processing Record 144 | north battleford\n",
      "Processing Record 145 | maraba\n",
      "Processing Record 146 | yamada\n",
      "City not found. Skipping...\n",
      "Processing Record 147 | isetskoye\n",
      "Processing Record 148 | aklavik\n",
      "Processing Record 149 | leningradskiy\n",
      "Processing Record 150 | zhangjiakou\n",
      "Processing Record 151 | yumen\n",
      "Processing Record 152 | cabo san lucas\n",
      "Processing Record 153 | uwajima\n",
      "Processing Record 154 | shieli\n",
      "Processing Record 155 | pisco\n",
      "Processing Record 156 | aykhal\n",
      "Processing Record 157 | luderitz\n",
      "Processing Record 158 | laguna\n",
      "Processing Record 159 | port hedland\n",
      "Processing Record 160 | tweed\n",
      "Processing Record 161 | sola\n",
      "City not found. Skipping...\n",
      "Processing Record 162 | rio gallegos\n",
      "Processing Record 163 | chuy\n",
      "Processing Record 164 | sibolga\n",
      "Processing Record 165 | myitkyina\n",
      "Processing Record 166 | san patricio\n",
      "Processing Record 167 | bay roberts\n",
      "Processing Record 168 | lavrentiya\n",
      "Processing Record 169 | inhambane\n",
      "Processing Record 170 | caravelas\n",
      "Processing Record 171 | carnarvon\n",
      "Processing Record 172 | vardo\n",
      "Processing Record 173 | sikar\n",
      "Processing Record 174 | kieta\n",
      "Processing Record 175 | diamantino\n",
      "Processing Record 176 | saint-philippe\n",
      "Processing Record 177 | kaitangata\n",
      "Processing Record 178 | luwuk\n",
      "Processing Record 179 | axim\n",
      "City not found. Skipping...\n",
      "City not found. Skipping...\n",
      "Processing Record 180 | belaya gora\n",
      "Processing Record 181 | bathsheba\n",
      "Processing Record 182 | castro\n",
      "Processing Record 183 | manzhouli\n",
      "Processing Record 184 | port hardy\n",
      "Processing Record 185 | adrar\n",
      "Processing Record 186 | juquitiba\n",
      "Processing Record 187 | clyde river\n",
      "Processing Record 188 | homer\n",
      "Processing Record 189 | okhotsk\n",
      "Processing Record 190 | aswan\n",
      "Processing Record 191 | kavieng\n",
      "Processing Record 192 | gushikawa\n",
      "Processing Record 193 | mount gambier\n",
      "Processing Record 194 | aksu\n",
      "Processing Record 195 | iwanai\n",
      "Processing Record 196 | wanning\n",
      "Processing Record 197 | ambilobe\n",
      "Processing Record 198 | phalombe\n",
      "Processing Record 199 | namatanai\n",
      "Processing Record 200 | mazyr\n",
      "Processing Record 201 | talnakh\n",
      "Processing Record 202 | new norfolk\n",
      "Processing Record 203 | thinadhoo\n",
      "Processing Record 204 | dwarka\n",
      "Processing Record 205 | grand-santi\n",
      "Processing Record 206 | sawakin\n",
      "Processing Record 207 | urbana\n",
      "Processing Record 208 | huarmey\n",
      "Processing Record 209 | san quintin\n",
      "Processing Record 210 | mokhsogollokh\n",
      "Processing Record 211 | tiksi\n",
      "Processing Record 212 | sioux lookout\n",
      "Processing Record 213 | bunia\n",
      "Processing Record 214 | turtas\n",
      "Processing Record 215 | jati\n",
      "Processing Record 216 | oktyabrskoye\n",
      "Processing Record 217 | channel-port aux basques\n",
      "Processing Record 218 | praia da vitoria\n",
      "Processing Record 219 | tanout\n",
      "Processing Record 220 | emerald\n",
      "Processing Record 221 | itarema\n",
      "Processing Record 222 | kruisfontein\n",
      "Processing Record 223 | shingu\n",
      "Processing Record 224 | saskylakh\n",
      "Processing Record 225 | beni mazar\n",
      "Processing Record 226 | darnah\n",
      "Processing Record 227 | upernavik\n",
      "Processing Record 228 | huntsville\n",
      "City not found. Skipping...\n",
      "Processing Record 229 | rawson\n",
      "Processing Record 230 | mastic beach\n"
     ]
    },
    {
     "name": "stdout",
     "output_type": "stream",
     "text": [
      "Processing Record 231 | broken hill\n",
      "Processing Record 232 | bethel\n",
      "Processing Record 233 | wittlich\n",
      "Processing Record 234 | coshocton\n",
      "Processing Record 235 | ponta do sol\n",
      "Processing Record 236 | portland\n",
      "Processing Record 237 | husavik\n",
      "Processing Record 238 | srandakan\n",
      "Processing Record 239 | goulburn\n",
      "Processing Record 240 | kedrovyy\n",
      "Processing Record 241 | olinda\n",
      "Processing Record 242 | norman wells\n",
      "Processing Record 243 | ancud\n",
      "Processing Record 244 | saint-francois\n",
      "Processing Record 245 | visnes\n",
      "Processing Record 246 | olafsvik\n",
      "Processing Record 247 | lorengau\n",
      "Processing Record 248 | tabora\n",
      "Processing Record 249 | cascais\n",
      "City not found. Skipping...\n",
      "Processing Record 250 | dingle\n",
      "Processing Record 251 | sao felix do xingu\n",
      "Processing Record 252 | nikolskoye\n",
      "Processing Record 253 | hasaki\n",
      "Processing Record 254 | vila franca do campo\n",
      "Processing Record 255 | magadan\n",
      "Processing Record 256 | boa vista\n",
      "Processing Record 257 | jumla\n",
      "Processing Record 258 | bowen\n",
      "Processing Record 259 | conway\n",
      "Processing Record 260 | dunda\n",
      "Processing Record 261 | alice springs\n",
      "Processing Record 262 | chumikan\n",
      "Processing Record 263 | odweyne\n",
      "Processing Record 264 | olavarria\n",
      "Processing Record 265 | lahij\n",
      "Processing Record 266 | coquimbo\n",
      "Processing Record 267 | jalu\n",
      "Processing Record 268 | nuuk\n",
      "Processing Record 269 | coolum beach\n",
      "Processing Record 270 | obera\n",
      "Processing Record 271 | puerto maldonado\n",
      "Processing Record 272 | college\n",
      "Processing Record 273 | otavi\n",
      "Processing Record 274 | vanavara\n",
      "Processing Record 275 | linjiang\n",
      "Processing Record 276 | daitari\n",
      "Processing Record 277 | chipinge\n",
      "City not found. Skipping...\n",
      "Processing Record 278 | krasnoselkup\n",
      "Processing Record 279 | san antonio\n",
      "Processing Record 280 | rundu\n",
      "Processing Record 281 | guerrero negro\n",
      "Processing Record 282 | cortez\n",
      "Processing Record 283 | grindavik\n",
      "Processing Record 284 | omegna\n",
      "City not found. Skipping...\n",
      "Processing Record 285 | bud\n",
      "Processing Record 286 | parana\n",
      "Processing Record 287 | kyzyl-suu\n",
      "Processing Record 288 | goderich\n",
      "Processing Record 289 | narsaq\n",
      "Processing Record 290 | touros\n",
      "Processing Record 291 | turukhansk\n",
      "Processing Record 292 | solnechnyy\n",
      "Processing Record 293 | dalmeny\n",
      "Processing Record 294 | oistins\n",
      "Processing Record 295 | mount isa\n",
      "Processing Record 296 | zhezkazgan\n",
      "Processing Record 297 | lagos\n",
      "Processing Record 298 | balkhash\n",
      "Processing Record 299 | bara\n",
      "Processing Record 300 | fomboni\n",
      "Processing Record 301 | ostrozac\n",
      "Processing Record 302 | port elizabeth\n",
      "Processing Record 303 | djougou\n",
      "Processing Record 304 | paracuru\n",
      "Processing Record 305 | griffith\n",
      "Processing Record 306 | mago\n",
      "Processing Record 307 | mestia\n",
      "Processing Record 308 | soyo\n",
      "Processing Record 309 | mujiayingzi\n",
      "Processing Record 310 | ustye\n",
      "Processing Record 311 | maceio\n",
      "Processing Record 312 | nargana\n",
      "City not found. Skipping...\n",
      "Processing Record 313 | salinopolis\n",
      "Processing Record 314 | uniao\n",
      "Processing Record 315 | mogocha\n",
      "Processing Record 316 | shubarkuduk\n",
      "Processing Record 317 | mehamn\n",
      "Processing Record 318 | bukavu\n",
      "Processing Record 319 | le port\n",
      "City not found. Skipping...\n",
      "Processing Record 320 | mao\n",
      "Processing Record 321 | guangyuan\n",
      "Processing Record 322 | luena\n",
      "Processing Record 323 | saldanha\n",
      "Processing Record 324 | llanelli\n",
      "Processing Record 325 | ola\n",
      "City not found. Skipping...\n",
      "Processing Record 326 | fort nelson\n",
      "Processing Record 327 | lakes entrance\n",
      "Processing Record 328 | antofagasta\n",
      "Processing Record 329 | ibra\n",
      "Processing Record 330 | panguna\n",
      "Processing Record 331 | karwar\n",
      "Processing Record 332 | correntina\n",
      "Processing Record 333 | monte alegre de minas\n",
      "Processing Record 334 | kumylzhenskaya\n",
      "Processing Record 335 | alta floresta\n",
      "Processing Record 336 | matam\n",
      "Processing Record 337 | nantucket\n",
      "Processing Record 338 | udachnyy\n",
      "Processing Record 339 | nome\n",
      "Processing Record 340 | cotonou\n",
      "Processing Record 341 | longido\n",
      "Processing Record 342 | tucumcari\n",
      "Processing Record 343 | navahrudak\n",
      "Processing Record 344 | puerto escondido\n",
      "Processing Record 345 | flinders\n",
      "Processing Record 346 | sambava\n",
      "Processing Record 347 | madison heights\n",
      "Processing Record 348 | jawhar\n",
      "Processing Record 349 | kirkwall\n",
      "Processing Record 350 | dubbo\n",
      "Processing Record 351 | ryotsu\n",
      "Processing Record 352 | kayes\n",
      "Processing Record 353 | cairns\n",
      "Processing Record 354 | itoman\n",
      "Processing Record 355 | skibbereen\n",
      "Processing Record 356 | micco\n",
      "Processing Record 357 | stawell\n",
      "Processing Record 358 | ostrovnoy\n",
      "Processing Record 359 | paamiut\n",
      "Processing Record 360 | vostok\n",
      "Processing Record 361 | vanimo\n",
      "Processing Record 362 | san juan de la maguana\n",
      "Processing Record 363 | necochea\n",
      "Processing Record 364 | zhigansk\n",
      "Processing Record 365 | amapa\n",
      "Processing Record 366 | fare\n",
      "Processing Record 367 | keuruu\n",
      "Processing Record 368 | kahului\n",
      "City not found. Skipping...\n",
      "City not found. Skipping...\n",
      "Processing Record 369 | port augusta\n",
      "Processing Record 370 | puerto carreno\n",
      "Processing Record 371 | bandarbeyla\n",
      "Processing Record 372 | salalah\n",
      "Processing Record 373 | tuatapere\n",
      "Processing Record 374 | thaba-tseka\n",
      "Processing Record 375 | longyearbyen\n",
      "Processing Record 376 | pasni\n",
      "Processing Record 377 | severodvinsk\n",
      "Processing Record 378 | roma\n",
      "Processing Record 379 | conceicao do araguaia\n",
      "Processing Record 380 | sungaipenuh\n",
      "Processing Record 381 | kapit\n",
      "Processing Record 382 | tiarei\n",
      "City not found. Skipping...\n",
      "Processing Record 383 | damaturu\n",
      "Processing Record 384 | verkhniy mamon\n",
      "Processing Record 385 | westport\n",
      "Processing Record 386 | chokurdakh\n",
      "Processing Record 387 | iqaluit\n",
      "Processing Record 388 | goundam\n",
      "Processing Record 389 | ocamonte\n",
      "Processing Record 390 | davila\n",
      "Processing Record 391 | ushumun\n",
      "Processing Record 392 | akyab\n",
      "Processing Record 393 | tingi\n",
      "Processing Record 394 | minervino murge\n",
      "City not found. Skipping...\n",
      "Processing Record 395 | alanya\n",
      "Processing Record 396 | sabzevar\n",
      "City not found. Skipping...\n",
      "Processing Record 397 | alyangula\n",
      "Processing Record 398 | lakota\n",
      "Processing Record 399 | balagansk\n",
      "Processing Record 400 | palakkodu\n",
      "Processing Record 401 | tipuani\n",
      "Processing Record 402 | rocha\n",
      "Processing Record 403 | mawlaik\n",
      "Processing Record 404 | kloulklubed\n",
      "Processing Record 405 | cidreira\n",
      "Processing Record 406 | kanker\n",
      "Processing Record 407 | erenhot\n",
      "Processing Record 408 | gat\n",
      "Processing Record 409 | saint anthony\n",
      "Processing Record 410 | beisfjord\n",
      "Processing Record 411 | penzance\n",
      "Processing Record 412 | garowe\n",
      "Processing Record 413 | saint-cyr-sur-loire\n",
      "Processing Record 414 | tete\n",
      "Processing Record 415 | san matias\n",
      "Processing Record 416 | cayenne\n",
      "Processing Record 417 | coihaique\n",
      "Processing Record 418 | ilulissat\n",
      "Processing Record 419 | oranjemund\n",
      "Processing Record 420 | stranda\n",
      "Processing Record 421 | christchurch\n",
      "Processing Record 422 | filadelfia\n",
      "Processing Record 423 | pingliang\n",
      "Processing Record 424 | terrassa\n",
      "Processing Record 425 | kabanjahe\n",
      "Processing Record 426 | espanola\n",
      "City not found. Skipping...\n",
      "Processing Record 427 | severnoye\n",
      "Processing Record 428 | dongsheng\n",
      "Processing Record 429 | sistranda\n",
      "Processing Record 430 | mastic\n",
      "Processing Record 431 | kodinsk\n",
      "Processing Record 432 | ust-maya\n",
      "Processing Record 433 | longos\n",
      "Processing Record 434 | verkhnevilyuysk\n",
      "Processing Record 435 | baiyin\n",
      "Processing Record 436 | bahia honda\n",
      "Processing Record 437 | koslan\n",
      "Processing Record 438 | trinidad\n",
      "Processing Record 439 | san cristobal\n",
      "Processing Record 440 | igunga\n",
      "Processing Record 441 | sechura\n",
      "Processing Record 442 | saint-pierre\n",
      "Processing Record 443 | paraopeba\n",
      "Processing Record 444 | yerbogachen\n",
      "City not found. Skipping...\n",
      "Processing Record 445 | leh\n",
      "Processing Record 446 | jingdezhen\n",
      "Processing Record 447 | maymyo\n",
      "Processing Record 448 | nadym\n",
      "Processing Record 449 | hofn\n",
      "Processing Record 450 | tartus\n",
      "Processing Record 451 | ballina\n",
      "Processing Record 452 | belen\n",
      "City not found. Skipping...\n",
      "Processing Record 453 | kununurra\n",
      "Processing Record 454 | wajid\n",
      "Processing Record 455 | vestmannaeyjar\n",
      "Processing Record 456 | kaeo\n",
      "Processing Record 457 | huilong\n",
      "Processing Record 458 | taltal\n",
      "Processing Record 459 | vila\n",
      "Processing Record 460 | lazaro cardenas\n",
      "Processing Record 461 | matara\n",
      "Processing Record 462 | marawi\n",
      "Processing Record 463 | coahuayana\n",
      "Processing Record 464 | kabare\n",
      "Processing Record 465 | hailar\n",
      "Processing Record 466 | bahar\n"
     ]
    },
    {
     "name": "stdout",
     "output_type": "stream",
     "text": [
      "Processing Record 467 | chenzhou\n",
      "Processing Record 468 | do gonbadan\n",
      "Processing Record 469 | rokytne\n",
      "Processing Record 470 | brae\n",
      "Processing Record 471 | port blair\n",
      "Processing Record 472 | arteaga\n",
      "Processing Record 473 | loandjili\n",
      "Processing Record 474 | buala\n",
      "City not found. Skipping...\n",
      "City not found. Skipping...\n",
      "Processing Record 475 | bacolod\n",
      "Processing Record 476 | dalbandin\n",
      "Processing Record 477 | nehe\n",
      "Processing Record 478 | staryy nadym\n",
      "Processing Record 479 | mingaora\n",
      "Processing Record 480 | nelson bay\n",
      "Processing Record 481 | abancay\n",
      "Processing Record 482 | henties bay\n",
      "Processing Record 483 | jadu\n",
      "Processing Record 484 | turayf\n",
      "Processing Record 485 | ukiah\n",
      "Processing Record 486 | puri\n",
      "Processing Record 487 | esperance\n",
      "City not found. Skipping...\n",
      "Processing Record 488 | baghdad\n",
      "Processing Record 489 | havelock\n",
      "Processing Record 490 | merauke\n",
      "Processing Record 491 | xifeng\n",
      "Processing Record 492 | port macquarie\n",
      "Processing Record 493 | tessalit\n",
      "Processing Record 494 | imari\n",
      "Processing Record 495 | wakkanai\n",
      "Processing Record 496 | reconquista\n",
      "Processing Record 497 | grootfontein\n",
      "Processing Record 498 | priiskovyy\n",
      "Processing Record 499 | bilibino\n",
      "Processing Record 500 | xuddur\n",
      "Processing Record 501 | banda aceh\n",
      "Processing Record 502 | lahat\n",
      "Processing Record 503 | korla\n",
      "Processing Record 504 | bedele\n",
      "Processing Record 505 | fredericton\n",
      "Processing Record 506 | aksha\n",
      "Processing Record 507 | surt\n",
      "Processing Record 508 | eisenerz\n",
      "Processing Record 509 | donskoye\n",
      "Processing Record 510 | catalca\n",
      "City not found. Skipping...\n",
      "Processing Record 511 | baglung\n",
      "Processing Record 512 | isangel\n",
      "Processing Record 513 | touho\n",
      "Processing Record 514 | parvatsar\n",
      "Processing Record 515 | kuruman\n",
      "Processing Record 516 | batagay-alyta\n",
      "Processing Record 517 | arlit\n",
      "Processing Record 518 | sorland\n",
      "Processing Record 519 | mezhova\n",
      "Processing Record 520 | mpulungu\n",
      "Processing Record 521 | talara\n",
      "Processing Record 522 | srednekolymsk\n",
      "Processing Record 523 | vila velha\n",
      "Processing Record 524 | kailua\n",
      "Processing Record 525 | ottawa\n",
      "Processing Record 526 | bukoba\n",
      "Processing Record 527 | san policarpo\n",
      "Processing Record 528 | bani walid\n",
      "Processing Record 529 | matagami\n",
      "Processing Record 530 | butembo\n",
      "Processing Record 531 | nizza monferrato\n",
      "Processing Record 532 | beringovskiy\n",
      "Processing Record 533 | koping\n",
      "Processing Record 534 | mahibadhoo\n",
      "Processing Record 535 | catalina\n",
      "Processing Record 536 | iquitos\n",
      "Processing Record 537 | slave lake\n",
      "Processing Record 538 | shimoda\n",
      "Processing Record 539 | enumclaw\n",
      "Processing Record 540 | roseto degli abruzzi\n",
      "Processing Record 541 | kushmurun\n",
      "Processing Record 542 | swellendam\n",
      "Processing Record 543 | geraldton\n",
      "Processing Record 544 | stroud\n",
      "Processing Record 545 | broome\n",
      "Processing Record 546 | ocosingo\n",
      "Processing Record 547 | sorong\n",
      "Processing Record 548 | novobirilyussy\n",
      "Processing Record 549 | port said\n",
      "Processing Record 550 | san fernando\n",
      "City not found. Skipping...\n",
      "Processing Record 551 | stepnogorsk\n",
      "Processing Record 552 | mangaratiba\n",
      "Processing Record 553 | dubrovka\n",
      "Processing Record 554 | pitimbu\n",
      "Processing Record 555 | chekmagush\n",
      "Processing Record 556 | charleston\n",
      "Processing Record 557 | ashta\n",
      "Processing Record 558 | yarkovo\n",
      "Processing Record 559 | tecoanapa\n",
      "Processing Record 560 | holic\n",
      "Processing Record 561 | ouadda\n",
      "Processing Record 562 | pilar\n",
      "Processing Record 563 | los angeles\n",
      "Processing Record 564 | capao da canoa\n",
      "Processing Record 565 | mogadishu\n",
      "Processing Record 566 | jian\n",
      "Processing Record 567 | kajaani\n",
      "Processing Record 568 | te anau\n",
      "Processing Record 569 | santiago\n",
      "City not found. Skipping...\n",
      "Processing Record 570 | codrington\n",
      "Processing Record 571 | chauk\n",
      "Processing Record 572 | san jeronimo\n",
      "Processing Record 573 | xicotencatl\n",
      "City not found. Skipping...\n",
      "Processing Record 574 | tura\n",
      "Processing Record 575 | presidencia roque saenz pena\n",
      "Processing Record 576 | kivsharivka\n",
      "Processing Record 577 | talakan\n",
      "Processing Record 578 | vila do maio\n",
      "Processing Record 579 | vezirkopru\n",
      "City not found. Skipping...\n",
      "Processing Record 580 | kuching\n",
      "Processing Record 581 | sayyan\n",
      "Processing Record 582 | kawhia\n",
      "Processing Record 583 | kirakira\n",
      "Processing Record 584 | primorsk\n",
      "------------------------\n",
      "Data Retrieval Complete\n",
      "------------------------\n"
     ]
    }
   ],
   "source": [
    "#Create empty lists for necessary data\n",
    "city_name = []\n",
    "latitude = []\n",
    "longitude= []\n",
    "temperature = []\n",
    "humidity = []\n",
    "cloudiness = []\n",
    "wind_speed = []\n",
    "country = []\n",
    "\n",
    "record = 1\n",
    "\n",
    "print('Beginning Data Retrieval')\n",
    "print('------------------------')\n",
    "\n",
    "#Create for loop to append above lists with weather data\n",
    "for city in cities:\n",
    "    try:\n",
    "        response = requests.get(query_url + city).json() \n",
    "        city_name.append(response['name'])\n",
    "        latitude.append(response['coord']['lat'])\n",
    "        longitude.append(response['coord']['lon'])\n",
    "        temperature.append(response['main']['temp_max'])\n",
    "        humidity.append(response['main']['humidity'])\n",
    "        cloudiness.append(response['clouds']['all'])\n",
    "        wind_speed.append(response['wind']['speed'])\n",
    "        country.append(response['sys']['country'])\n",
    "        print(f'Processing Record {record} | {city}')\n",
    "        \n",
    "        record = record + 1\n",
    "        \n",
    "        time.sleep(1.00)\n",
    "    \n",
    "    except Exception:\n",
    "        print(\"City not found. Skipping...\")\n",
    "    continue\n",
    "print('------------------------')\n",
    "print('Data Retrieval Complete')\n",
    "print('------------------------')"
   ]
  },
  {
   "cell_type": "code",
   "execution_count": 6,
   "metadata": {},
   "outputs": [
    {
     "data": {
      "text/html": [
       "<div>\n",
       "<style scoped>\n",
       "    .dataframe tbody tr th:only-of-type {\n",
       "        vertical-align: middle;\n",
       "    }\n",
       "\n",
       "    .dataframe tbody tr th {\n",
       "        vertical-align: top;\n",
       "    }\n",
       "\n",
       "    .dataframe thead th {\n",
       "        text-align: right;\n",
       "    }\n",
       "</style>\n",
       "<table border=\"1\" class=\"dataframe\">\n",
       "  <thead>\n",
       "    <tr style=\"text-align: right;\">\n",
       "      <th></th>\n",
       "      <th>City</th>\n",
       "      <th>Country</th>\n",
       "      <th>Latitude</th>\n",
       "      <th>Longitude</th>\n",
       "      <th>Max Temperature (F)</th>\n",
       "      <th>Humidity (%)</th>\n",
       "      <th>Cloudiness (%)</th>\n",
       "      <th>Wind Speed (mph)</th>\n",
       "    </tr>\n",
       "  </thead>\n",
       "  <tbody>\n",
       "    <tr>\n",
       "      <th>0</th>\n",
       "      <td>Saint Paul Harbor</td>\n",
       "      <td>US</td>\n",
       "      <td>57.79</td>\n",
       "      <td>-152.41</td>\n",
       "      <td>41.00</td>\n",
       "      <td>56</td>\n",
       "      <td>90</td>\n",
       "      <td>6.93</td>\n",
       "    </tr>\n",
       "    <tr>\n",
       "      <th>1</th>\n",
       "      <td>Mahébourg</td>\n",
       "      <td>MU</td>\n",
       "      <td>-20.41</td>\n",
       "      <td>57.70</td>\n",
       "      <td>75.99</td>\n",
       "      <td>65</td>\n",
       "      <td>70</td>\n",
       "      <td>5.01</td>\n",
       "    </tr>\n",
       "    <tr>\n",
       "      <th>2</th>\n",
       "      <td>Mar del Plata</td>\n",
       "      <td>AR</td>\n",
       "      <td>-38.00</td>\n",
       "      <td>-57.56</td>\n",
       "      <td>51.01</td>\n",
       "      <td>81</td>\n",
       "      <td>0</td>\n",
       "      <td>4.70</td>\n",
       "    </tr>\n",
       "    <tr>\n",
       "      <th>3</th>\n",
       "      <td>Gomel</td>\n",
       "      <td>BY</td>\n",
       "      <td>52.43</td>\n",
       "      <td>30.98</td>\n",
       "      <td>39.20</td>\n",
       "      <td>100</td>\n",
       "      <td>3</td>\n",
       "      <td>6.71</td>\n",
       "    </tr>\n",
       "    <tr>\n",
       "      <th>4</th>\n",
       "      <td>Hermanus</td>\n",
       "      <td>ZA</td>\n",
       "      <td>-34.42</td>\n",
       "      <td>19.23</td>\n",
       "      <td>60.01</td>\n",
       "      <td>79</td>\n",
       "      <td>100</td>\n",
       "      <td>1.01</td>\n",
       "    </tr>\n",
       "  </tbody>\n",
       "</table>\n",
       "</div>"
      ],
      "text/plain": [
       "                City Country  Latitude  Longitude  Max Temperature (F)  \\\n",
       "0  Saint Paul Harbor      US     57.79    -152.41                41.00   \n",
       "1          Mahébourg      MU    -20.41      57.70                75.99   \n",
       "2      Mar del Plata      AR    -38.00     -57.56                51.01   \n",
       "3              Gomel      BY     52.43      30.98                39.20   \n",
       "4           Hermanus      ZA    -34.42      19.23                60.01   \n",
       "\n",
       "   Humidity (%)  Cloudiness (%)  Wind Speed (mph)  \n",
       "0            56              90              6.93  \n",
       "1            65              70              5.01  \n",
       "2            81               0              4.70  \n",
       "3           100               3              6.71  \n",
       "4            79             100              1.01  "
      ]
     },
     "execution_count": 6,
     "metadata": {},
     "output_type": "execute_result"
    }
   ],
   "source": [
    "#Create dictionary for weather DF\n",
    "\n",
    "weather_dict={\n",
    "    'City': city_name,\n",
    "    'Country': country,\n",
    "    'Latitude': latitude,\n",
    "    'Longitude': longitude,\n",
    "    'Max Temperature (F)': temperature,\n",
    "    'Humidity (%)': humidity,\n",
    "    'Cloudiness (%)': cloudiness,\n",
    "    'Wind Speed (mph)': wind_speed}\n",
    "\n",
    "weather_df = pd.DataFrame(weather_dict)\n",
    "weather_df.to_csv(output_data_file, index=False, header=True)\n",
    "weather_df.head()"
   ]
  },
  {
   "cell_type": "code",
   "execution_count": 8,
   "metadata": {},
   "outputs": [
    {
     "data": {
      "image/png": "[encoded data removed]",
      "text/plain": [
       "<Figure size 432x288 with 1 Axes>"
      ]
     },
     "metadata": {
      "needs_background": "light"
     },
     "output_type": "display_data"
    },
    {
     "data": {
      "text/plain": [
       "<Figure size 432x288 with 0 Axes>"
      ]
     },
     "metadata": {},
     "output_type": "display_data"
    }
   ],
   "source": [
    "#Create Scatterplot for Temperature (F) Vs Latitude\n",
    "\n",
    "plt.scatter(weather_df['Latitude'], weather_df['Max Temperature (F)'], marker='o', facecolors=\"blue\", edgecolors=\"black\" )\n",
    "plt.title('Temperature (F) Vs Latitude')\n",
    "plt.xlabel('Latitude')\n",
    "plt.ylabel('Temperature')\n",
    "plt.grid(True)\n",
    "plt.show()\n",
    "plt.savefig(\"Output_Data/TempVsLatitude.png\")"
   ]
  },
  {
   "cell_type": "markdown",
   "metadata": {},
   "source": [
    "Scatterplot is comparing temperature to latitude - there appears to be a strong correlation between the two"
   ]
  },
  {
   "cell_type": "code",
   "execution_count": 9,
   "metadata": {},
   "outputs": [
    {
     "data": {
      "image/png": "[encoded data removed]",
      "text/plain": [
       "<Figure size 432x288 with 1 Axes>"
      ]
     },
     "metadata": {
      "needs_background": "light"
     },
     "output_type": "display_data"
    },
    {
     "data": {
      "text/plain": [
       "<Figure size 432x288 with 0 Axes>"
      ]
     },
     "metadata": {},
     "output_type": "display_data"
    }
   ],
   "source": [
    "#Create Scatterplot for Humidity (%) vs. Latitude\n",
    "\n",
    "plt.scatter(weather_df['Latitude'], weather_df['Humidity (%)'], marker='o', facecolors=\"blue\", edgecolors=\"black\" )\n",
    "plt.title('Humidity (%) Vs Latitude')\n",
    "plt.xlabel('Latitude')\n",
    "plt.ylabel('Humidity')\n",
    "plt.grid(True)\n",
    "plt.show()\n",
    "plt.savefig(\"Output_Data/HumidityVsLatitude.png\")"
   ]
  },
  {
   "cell_type": "markdown",
   "metadata": {},
   "source": [
    "Scatterplot is comparing humidity to latitude - there appears to be some consistency, however there is a large cluster of cities between the latitudes of 40 and 80 that are extremely humid"
   ]
  },
  {
   "cell_type": "code",
   "execution_count": 10,
   "metadata": {},
   "outputs": [
    {
     "data": {
      "image/png": "[encoded data removed]",
      "text/plain": [
       "<Figure size 432x288 with 1 Axes>"
      ]
     },
     "metadata": {
      "needs_background": "light"
     },
     "output_type": "display_data"
    },
    {
     "data": {
      "text/plain": [
       "<Figure size 432x288 with 0 Axes>"
      ]
     },
     "metadata": {},
     "output_type": "display_data"
    }
   ],
   "source": [
    "#Create Scatterplot for Cloudiness (%) vs. Latitude\n",
    "\n",
    "plt.scatter(weather_df['Latitude'], weather_df['Cloudiness (%)'], marker='o', facecolors=\"blue\", edgecolors=\"black\" )\n",
    "plt.title('Cloudiness (%) Vs Latitude')\n",
    "plt.xlabel('Latitude')\n",
    "plt.ylabel('Cloudiness')\n",
    "plt.grid(True)\n",
    "plt.show()\n",
    "plt.savefig(\"Output_Data/CloudinessVsLatitude.png\")"
   ]
  },
  {
   "cell_type": "markdown",
   "metadata": {},
   "source": [
    "Scatterplot is comparing cloudiness to latitude - the two do not seem to be correlated"
   ]
  },
  {
   "cell_type": "code",
   "execution_count": 11,
   "metadata": {},
   "outputs": [
    {
     "data": {
      "image/png": "[encoded data removed]",
      "text/plain": [
       "<Figure size 432x288 with 1 Axes>"
      ]
     },
     "metadata": {
      "needs_background": "light"
     },
     "output_type": "display_data"
    },
    {
     "data": {
      "text/plain": [
       "<Figure size 432x288 with 0 Axes>"
      ]
     },
     "metadata": {},
     "output_type": "display_data"
    }
   ],
   "source": [
    "#Create Scatterplot for Wind Speed (mph) vs. Latitude\n",
    "\n",
    "plt.scatter(weather_df['Latitude'], weather_df['Wind Speed (mph)'], marker='o', facecolors=\"blue\", edgecolors=\"black\" )\n",
    "plt.title('Wind Speed (mph) Vs Latitude')\n",
    "plt.xlabel('Latitude')\n",
    "plt.ylabel('Wind Speed')\n",
    "plt.grid(True)\n",
    "plt.show()\n",
    "plt.savefig(\"Output_Data/WindSpeedVsLatitude.png\")"
   ]
  },
  {
   "cell_type": "markdown",
   "metadata": {},
   "source": [
    "Scatterplot is comparing wind speed to latitude - most latitudes appear to have a relatively low wind speed, however there are some cities across all latitudes that have higher wind speeds"
   ]
  },
  {
   "cell_type": "code",
   "execution_count": 12,
   "metadata": {},
   "outputs": [
    {
     "data": {
      "text/html": [
       "<div>\n",
       "<style scoped>\n",
       "    .dataframe tbody tr th:only-of-type {\n",
       "        vertical-align: middle;\n",
       "    }\n",
       "\n",
       "    .dataframe tbody tr th {\n",
       "        vertical-align: top;\n",
       "    }\n",
       "\n",
       "    .dataframe thead th {\n",
       "        text-align: right;\n",
       "    }\n",
       "</style>\n",
       "<table border=\"1\" class=\"dataframe\">\n",
       "  <thead>\n",
       "    <tr style=\"text-align: right;\">\n",
       "      <th></th>\n",
       "      <th>City</th>\n",
       "      <th>Country</th>\n",
       "      <th>Latitude</th>\n",
       "      <th>Longitude</th>\n",
       "      <th>Max Temperature (F)</th>\n",
       "      <th>Humidity (%)</th>\n",
       "      <th>Cloudiness (%)</th>\n",
       "      <th>Wind Speed (mph)</th>\n",
       "    </tr>\n",
       "  </thead>\n",
       "  <tbody>\n",
       "    <tr>\n",
       "      <th>0</th>\n",
       "      <td>Saint Paul Harbor</td>\n",
       "      <td>US</td>\n",
       "      <td>57.79</td>\n",
       "      <td>-152.41</td>\n",
       "      <td>41.00</td>\n",
       "      <td>56</td>\n",
       "      <td>90</td>\n",
       "      <td>6.93</td>\n",
       "    </tr>\n",
       "    <tr>\n",
       "      <th>3</th>\n",
       "      <td>Gomel</td>\n",
       "      <td>BY</td>\n",
       "      <td>52.43</td>\n",
       "      <td>30.98</td>\n",
       "      <td>39.20</td>\n",
       "      <td>100</td>\n",
       "      <td>3</td>\n",
       "      <td>6.71</td>\n",
       "    </tr>\n",
       "    <tr>\n",
       "      <th>5</th>\n",
       "      <td>Klaksvík</td>\n",
       "      <td>FO</td>\n",
       "      <td>62.23</td>\n",
       "      <td>-6.59</td>\n",
       "      <td>46.40</td>\n",
       "      <td>87</td>\n",
       "      <td>70</td>\n",
       "      <td>12.75</td>\n",
       "    </tr>\n",
       "    <tr>\n",
       "      <th>6</th>\n",
       "      <td>Chernyshevskiy</td>\n",
       "      <td>RU</td>\n",
       "      <td>63.01</td>\n",
       "      <td>112.47</td>\n",
       "      <td>6.46</td>\n",
       "      <td>91</td>\n",
       "      <td>100</td>\n",
       "      <td>11.39</td>\n",
       "    </tr>\n",
       "    <tr>\n",
       "      <th>7</th>\n",
       "      <td>Lata</td>\n",
       "      <td>PT</td>\n",
       "      <td>40.16</td>\n",
       "      <td>-8.33</td>\n",
       "      <td>55.00</td>\n",
       "      <td>96</td>\n",
       "      <td>0</td>\n",
       "      <td>2.19</td>\n",
       "    </tr>\n",
       "  </tbody>\n",
       "</table>\n",
       "</div>"
      ],
      "text/plain": [
       "                City Country  Latitude  Longitude  Max Temperature (F)  \\\n",
       "0  Saint Paul Harbor      US     57.79    -152.41                41.00   \n",
       "3              Gomel      BY     52.43      30.98                39.20   \n",
       "5           Klaksvík      FO     62.23      -6.59                46.40   \n",
       "6     Chernyshevskiy      RU     63.01     112.47                 6.46   \n",
       "7               Lata      PT     40.16      -8.33                55.00   \n",
       "\n",
       "   Humidity (%)  Cloudiness (%)  Wind Speed (mph)  \n",
       "0            56              90              6.93  \n",
       "3           100               3              6.71  \n",
       "5            87              70             12.75  \n",
       "6            91             100             11.39  \n",
       "7            96               0              2.19  "
      ]
     },
     "execution_count": 12,
     "metadata": {},
     "output_type": "execute_result"
    }
   ],
   "source": [
    "#Create separate DF for Northern Hemisphere\n",
    "\n",
    "northern_df = weather_df.loc[weather_df['Latitude'] > 0]\n",
    "northern_df.head()"
   ]
  },
  {
   "cell_type": "code",
   "execution_count": 13,
   "metadata": {},
   "outputs": [
    {
     "data": {
      "text/html": [
       "<div>\n",
       "<style scoped>\n",
       "    .dataframe tbody tr th:only-of-type {\n",
       "        vertical-align: middle;\n",
       "    }\n",
       "\n",
       "    .dataframe tbody tr th {\n",
       "        vertical-align: top;\n",
       "    }\n",
       "\n",
       "    .dataframe thead th {\n",
       "        text-align: right;\n",
       "    }\n",
       "</style>\n",
       "<table border=\"1\" class=\"dataframe\">\n",
       "  <thead>\n",
       "    <tr style=\"text-align: right;\">\n",
       "      <th></th>\n",
       "      <th>City</th>\n",
       "      <th>Country</th>\n",
       "      <th>Latitude</th>\n",
       "      <th>Longitude</th>\n",
       "      <th>Max Temperature (F)</th>\n",
       "      <th>Humidity (%)</th>\n",
       "      <th>Cloudiness (%)</th>\n",
       "      <th>Wind Speed (mph)</th>\n",
       "    </tr>\n",
       "  </thead>\n",
       "  <tbody>\n",
       "    <tr>\n",
       "      <th>1</th>\n",
       "      <td>Mahébourg</td>\n",
       "      <td>MU</td>\n",
       "      <td>-20.41</td>\n",
       "      <td>57.70</td>\n",
       "      <td>75.99</td>\n",
       "      <td>65</td>\n",
       "      <td>70</td>\n",
       "      <td>5.01</td>\n",
       "    </tr>\n",
       "    <tr>\n",
       "      <th>2</th>\n",
       "      <td>Mar del Plata</td>\n",
       "      <td>AR</td>\n",
       "      <td>-38.00</td>\n",
       "      <td>-57.56</td>\n",
       "      <td>51.01</td>\n",
       "      <td>81</td>\n",
       "      <td>0</td>\n",
       "      <td>4.70</td>\n",
       "    </tr>\n",
       "    <tr>\n",
       "      <th>4</th>\n",
       "      <td>Hermanus</td>\n",
       "      <td>ZA</td>\n",
       "      <td>-34.42</td>\n",
       "      <td>19.23</td>\n",
       "      <td>60.01</td>\n",
       "      <td>79</td>\n",
       "      <td>100</td>\n",
       "      <td>1.01</td>\n",
       "    </tr>\n",
       "    <tr>\n",
       "      <th>9</th>\n",
       "      <td>Airai</td>\n",
       "      <td>TL</td>\n",
       "      <td>-8.93</td>\n",
       "      <td>125.41</td>\n",
       "      <td>78.48</td>\n",
       "      <td>50</td>\n",
       "      <td>36</td>\n",
       "      <td>4.50</td>\n",
       "    </tr>\n",
       "    <tr>\n",
       "      <th>10</th>\n",
       "      <td>Rikitea</td>\n",
       "      <td>PF</td>\n",
       "      <td>-23.12</td>\n",
       "      <td>-134.97</td>\n",
       "      <td>74.91</td>\n",
       "      <td>81</td>\n",
       "      <td>90</td>\n",
       "      <td>10.96</td>\n",
       "    </tr>\n",
       "  </tbody>\n",
       "</table>\n",
       "</div>"
      ],
      "text/plain": [
       "             City Country  Latitude  Longitude  Max Temperature (F)  \\\n",
       "1       Mahébourg      MU    -20.41      57.70                75.99   \n",
       "2   Mar del Plata      AR    -38.00     -57.56                51.01   \n",
       "4        Hermanus      ZA    -34.42      19.23                60.01   \n",
       "9           Airai      TL     -8.93     125.41                78.48   \n",
       "10        Rikitea      PF    -23.12    -134.97                74.91   \n",
       "\n",
       "    Humidity (%)  Cloudiness (%)  Wind Speed (mph)  \n",
       "1             65              70              5.01  \n",
       "2             81               0              4.70  \n",
       "4             79             100              1.01  \n",
       "9             50              36              4.50  \n",
       "10            81              90             10.96  "
      ]
     },
     "execution_count": 13,
     "metadata": {},
     "output_type": "execute_result"
    }
   ],
   "source": [
    "#Create separate DF for Southern Hemisphere\n",
    "southern_df = weather_df.loc[weather_df['Latitude'] < 0]\n",
    "southern_df.head()"
   ]
  },
  {
   "cell_type": "code",
   "execution_count": 15,
   "metadata": {},
   "outputs": [
    {
     "name": "stdout",
     "output_type": "stream",
     "text": [
      "The r-value is: -0.8722645350235482\n"
     ]
    },
    {
     "data": {
      "image/png": "[encoded data removed]",
      "text/plain": [
       "<Figure size 432x288 with 1 Axes>"
      ]
     },
     "metadata": {
      "needs_background": "light"
     },
     "output_type": "display_data"
    },
    {
     "data": {
      "text/plain": [
       "<Figure size 432x288 with 0 Axes>"
      ]
     },
     "metadata": {},
     "output_type": "display_data"
    }
   ],
   "source": [
    "#Create Linear Regression for Northern Hemisphere - Temperature (F) vs. Latitude\n",
    "\n",
    "x_values = northern_df['Latitude']\n",
    "y_values = northern_df['Max Temperature (F)']\n",
    "(slope, intercept, rvalue, pvalue, stderr) = linregress(x_values, y_values)\n",
    "regress_values = x_values * slope + intercept\n",
    "line_eq = \"y = \" + str(round(slope,2)) + \"x + \" + str(round(intercept,2))\n",
    "plt.scatter(x_values,y_values)\n",
    "plt.plot(x_values,regress_values,\"r-\")\n",
    "plt.annotate(line_eq,(4,10),fontsize=15,color=\"red\")\n",
    "plt.title('Northern Hemisphere - Temperature (F) vs. Latitude')\n",
    "plt.xlabel('Latitude')\n",
    "plt.ylabel('Temperature (F)')\n",
    "print(f\"The r-value is: {rvalue}\")\n",
    "plt.show()\n",
    "plt.savefig(\"Output_Data/NorthTempVsLat.png\")"
   ]
  },
  {
   "cell_type": "markdown",
   "metadata": {},
   "source": [
    "Scatterplot compares max temperature of the northern hemisphere to latitude - temperature decreases as latitude increases"
   ]
  },
  {
   "cell_type": "code",
   "execution_count": 17,
   "metadata": {},
   "outputs": [
    {
     "name": "stdout",
     "output_type": "stream",
     "text": [
      "The r-value is: 0.6093358615592226\n"
     ]
    },
    {
     "data": {
      "image/png": "[encoded data removed]",
      "text/plain": [
       "<Figure size 432x288 with 1 Axes>"
      ]
     },
     "metadata": {
      "needs_background": "light"
     },
     "output_type": "display_data"
    },
    {
     "data": {
      "text/plain": [
       "<Figure size 432x288 with 0 Axes>"
      ]
     },
     "metadata": {},
     "output_type": "display_data"
    }
   ],
   "source": [
    "#Create Linear Regression for Southern Hemisphere - Temperature (F) vs. Latitude\n",
    "\n",
    "x_values = southern_df['Latitude']\n",
    "y_values = southern_df['Max Temperature (F)']\n",
    "(slope, intercept, rvalue, pvalue, stderr) = linregress(x_values, y_values)\n",
    "regress_values = x_values * slope + intercept\n",
    "line_eq = \"y = \" + str(round(slope,2)) + \"x + \" + str(round(intercept,2))\n",
    "plt.scatter(x_values,y_values)\n",
    "plt.plot(x_values,regress_values,\"r-\")\n",
    "plt.annotate(line_eq,(-50,85),fontsize=15,color=\"red\")\n",
    "plt.title('Southern Hemisphere - Temperature (F) vs. Latitude')\n",
    "plt.xlabel('Latitude')\n",
    "plt.ylabel('Temperature (F)')\n",
    "print(f\"The r-value is: {rvalue}\")\n",
    "plt.show()\n",
    "plt.savefig(\"Output_Data/SouthTempVsLat.png\")"
   ]
  },
  {
   "cell_type": "markdown",
   "metadata": {},
   "source": [
    "Scatterplot compares max temperature of the southern hemisphere to latitude - temperature decreases as latitude decreases"
   ]
  },
  {
   "cell_type": "code",
   "execution_count": 18,
   "metadata": {},
   "outputs": [
    {
     "name": "stdout",
     "output_type": "stream",
     "text": [
      "The r-value is: 0.2910754393951313\n"
     ]
    },
    {
     "data": {
      "image/png": "[encoded data removed]",
      "text/plain": [
       "<Figure size 432x288 with 1 Axes>"
      ]
     },
     "metadata": {
      "needs_background": "light"
     },
     "output_type": "display_data"
    },
    {
     "data": {
      "text/plain": [
       "<Figure size 432x288 with 0 Axes>"
      ]
     },
     "metadata": {},
     "output_type": "display_data"
    }
   ],
   "source": [
    "#Create Linear Regression for Northern Hemisphere - Humidity (%) vs. Latitude\n",
    "\n",
    "x_values = northern_df['Latitude']\n",
    "y_values = northern_df['Humidity (%)']\n",
    "(slope, intercept, rvalue, pvalue, stderr) = linregress(x_values, y_values)\n",
    "regress_values = x_values * slope + intercept\n",
    "line_eq = \"y = \" + str(round(slope,2)) + \"x + \" + str(round(intercept,2))\n",
    "plt.scatter(x_values,y_values)\n",
    "plt.plot(x_values,regress_values,\"r-\")\n",
    "plt.annotate(line_eq,(45,10),fontsize=15,color=\"red\")\n",
    "plt.title('Northern Hemisphere - Humidity (%) vs. Latitude')\n",
    "plt.xlabel('Latitude')\n",
    "plt.ylabel('Humidity (%)')\n",
    "print(f\"The r-value is: {rvalue}\")\n",
    "plt.show()\n",
    "plt.savefig(\"Output_Data/NorthHumidityVsLat.png\")"
   ]
  },
  {
   "cell_type": "markdown",
   "metadata": {},
   "source": [
    "Scatterplot compares humidity temperature of the northern hemisphere to latitude - overall the northern hemisphere has medium to high humidity but there does not seem to be a strong correlation to latitude."
   ]
  },
  {
   "cell_type": "code",
   "execution_count": 19,
   "metadata": {},
   "outputs": [
    {
     "name": "stdout",
     "output_type": "stream",
     "text": [
      "The r-value is: 0.12631724852910065\n"
     ]
    },
    {
     "data": {
      "image/png": "[encoded data removed]",
      "text/plain": [
       "<Figure size 432x288 with 1 Axes>"
      ]
     },
     "metadata": {
      "needs_background": "light"
     },
     "output_type": "display_data"
    },
    {
     "data": {
      "text/plain": [
       "<Figure size 432x288 with 0 Axes>"
      ]
     },
     "metadata": {},
     "output_type": "display_data"
    }
   ],
   "source": [
    "#Create Linear Regression for Southern Hemisphere - Humidity (%) vs. Latitude\n",
    "\n",
    "x_values = southern_df['Latitude']\n",
    "y_values = southern_df['Humidity (%)']\n",
    "(slope, intercept, rvalue, pvalue, stderr) = linregress(x_values, y_values)\n",
    "regress_values = x_values * slope + intercept\n",
    "line_eq = \"y = \" + str(round(slope,2)) + \"x + \" + str(round(intercept,2))\n",
    "plt.scatter(x_values,y_values)\n",
    "plt.plot(x_values,regress_values,\"r-\")\n",
    "plt.annotate(line_eq,(-50,40),fontsize=15,color=\"red\")\n",
    "plt.title('Southern Hemisphere - Humidity (%) vs. Latitude')\n",
    "plt.xlabel('Latitude')\n",
    "plt.ylabel('Humidity (%)')\n",
    "print(f\"The r-value is: {rvalue}\")\n",
    "plt.show()\n",
    "plt.savefig(\"Output_Data/SouthHumidityVsLat.png\")"
   ]
  },
  {
   "cell_type": "markdown",
   "metadata": {},
   "source": [
    "Scatterplot compares humidity of the southern hemisphere to latitude - once again little relationship between latitude and humidity"
   ]
  },
  {
   "cell_type": "code",
   "execution_count": 20,
   "metadata": {},
   "outputs": [
    {
     "name": "stdout",
     "output_type": "stream",
     "text": [
      "The r-value is: 0.1873624654152495\n"
     ]
    },
    {
     "data": {
      "image/png": "[encoded data removed]",
      "text/plain": [
       "<Figure size 432x288 with 1 Axes>"
      ]
     },
     "metadata": {
      "needs_background": "light"
     },
     "output_type": "display_data"
    },
    {
     "data": {
      "text/plain": [
       "<Figure size 432x288 with 0 Axes>"
      ]
     },
     "metadata": {},
     "output_type": "display_data"
    }
   ],
   "source": [
    "#Create Linear Regression for Northern Hemisphere - Cloudiness (%) vs. Latitude\n",
    "\n",
    "x_values = northern_df['Latitude']\n",
    "y_values = northern_df['Cloudiness (%)']\n",
    "(slope, intercept, rvalue, pvalue, stderr) = linregress(x_values, y_values)\n",
    "regress_values = x_values * slope + intercept\n",
    "line_eq = \"y = \" + str(round(slope,2)) + \"x + \" + str(round(intercept,2))\n",
    "plt.scatter(x_values,y_values)\n",
    "plt.plot(x_values,regress_values,\"r-\")\n",
    "plt.annotate(line_eq,(20, 60),fontsize=15,color=\"red\")\n",
    "plt.title('Northern Hemisphere - Cloudiness (%) vs. Latitude')\n",
    "plt.xlabel('Latitude')\n",
    "plt.ylabel('Cloudiness (%)')\n",
    "print(f\"The r-value is: {rvalue}\")\n",
    "plt.show()\n",
    "plt.savefig(\"Output_Data/NorthCloudinessVsLat.png\")"
   ]
  },
  {
   "cell_type": "markdown",
   "metadata": {},
   "source": [
    "Scatterplot compares cloudiness of the northern hemisphere to latitude - very weak relationship between the two"
   ]
  },
  {
   "cell_type": "code",
   "execution_count": 21,
   "metadata": {},
   "outputs": [
    {
     "name": "stdout",
     "output_type": "stream",
     "text": [
      "The r-value is: 0.22483606933174788\n"
     ]
    },
    {
     "data": {
      "image/png": "[encoded data removed]",
      "text/plain": [
       "<Figure size 432x288 with 1 Axes>"
      ]
     },
     "metadata": {
      "needs_background": "light"
     },
     "output_type": "display_data"
    },
    {
     "data": {
      "text/plain": [
       "<Figure size 432x288 with 0 Axes>"
      ]
     },
     "metadata": {},
     "output_type": "display_data"
    }
   ],
   "source": [
    "#Create Linear Regression for Southern Hemisphere - Cloudiness (%) vs. Latitude\n",
    "\n",
    "x_values = southern_df['Latitude']\n",
    "y_values = southern_df['Cloudiness (%)']\n",
    "(slope, intercept, rvalue, pvalue, stderr) = linregress(x_values, y_values)\n",
    "regress_values = x_values * slope + intercept\n",
    "line_eq = \"y = \" + str(round(slope,2)) + \"x + \" + str(round(intercept,2))\n",
    "plt.scatter(x_values,y_values)\n",
    "plt.plot(x_values,regress_values,\"r-\")\n",
    "plt.annotate(line_eq,(-50,60),fontsize=15,color=\"red\")\n",
    "plt.title('Southern Hemisphere - Cloudiness (%) vs. Latitude')\n",
    "plt.xlabel('Latitude')\n",
    "plt.ylabel('Cloudiness (%)')\n",
    "print(f\"The r-value is: {rvalue}\")\n",
    "plt.show()\n",
    "plt.savefig(\"Output_Data/SouthCloudinessVsLat.png\")"
   ]
  },
  {
   "cell_type": "markdown",
   "metadata": {},
   "source": [
    "Scatterplot compares cloudiness of the southern hemisphere to latitude - slightly higher relationship than northern hemisphere but still not significant"
   ]
  },
  {
   "cell_type": "code",
   "execution_count": 22,
   "metadata": {},
   "outputs": [
    {
     "name": "stdout",
     "output_type": "stream",
     "text": [
      "The r-value is: 0.2196971958025067\n"
     ]
    },
    {
     "data": {
      "image/png": "[encoded data removed]",
      "text/plain": [
       "<Figure size 432x288 with 1 Axes>"
      ]
     },
     "metadata": {
      "needs_background": "light"
     },
     "output_type": "display_data"
    },
    {
     "data": {
      "text/plain": [
       "<Figure size 432x288 with 0 Axes>"
      ]
     },
     "metadata": {},
     "output_type": "display_data"
    }
   ],
   "source": [
    "#Create Linear Regression for Northern Hemisphere - Wind Speed (mph) vs. Latitude\n",
    "\n",
    "x_values = northern_df['Latitude']\n",
    "y_values = northern_df['Wind Speed (mph)']\n",
    "(slope, intercept, rvalue, pvalue, stderr) = linregress(x_values, y_values)\n",
    "regress_values = x_values * slope + intercept\n",
    "line_eq = \"y = \" + str(round(slope,2)) + \"x + \" + str(round(intercept,2))\n",
    "plt.scatter(x_values,y_values)\n",
    "plt.plot(x_values,regress_values,\"r-\")\n",
    "plt.annotate(line_eq,(0, 25),fontsize=15,color=\"red\")\n",
    "plt.title('Northern Hemisphere - Wind Speed (mph) vs. Latitude')\n",
    "plt.xlabel('Latitude')\n",
    "plt.ylabel('Wind Speed (mph)')\n",
    "print(f\"The r-value is: {rvalue}\")\n",
    "plt.show()\n",
    "plt.savefig(\"Output_Data/NorthWindSpeedVsLat.png\")"
   ]
  },
  {
   "cell_type": "markdown",
   "metadata": {},
   "source": [
    "Scatterplot compares windspeed of the northern hemisphere to latitude - very little relationship between the two"
   ]
  },
  {
   "cell_type": "code",
   "execution_count": 24,
   "metadata": {},
   "outputs": [
    {
     "name": "stdout",
     "output_type": "stream",
     "text": [
      "The r-value is: -0.27624998386424565\n"
     ]
    },
    {
     "data": {
      "image/png": "[encoded data removed]",
      "text/plain": [
       "<Figure size 432x288 with 1 Axes>"
      ]
     },
     "metadata": {
      "needs_background": "light"
     },
     "output_type": "display_data"
    },
    {
     "data": {
      "text/plain": [
       "<Figure size 432x288 with 0 Axes>"
      ]
     },
     "metadata": {},
     "output_type": "display_data"
    }
   ],
   "source": [
    "#Create Linear Regression for Southern Hemisphere - Wind Speed (mph) vs. Latitude\n",
    "\n",
    "x_values = southern_df['Latitude']\n",
    "y_values = southern_df['Wind Speed (mph)']\n",
    "(slope, intercept, rvalue, pvalue, stderr) = linregress(x_values, y_values)\n",
    "regress_values = x_values * slope + intercept\n",
    "line_eq = \"y = \" + str(round(slope,2)) + \"x + \" + str(round(intercept,2))\n",
    "plt.scatter(x_values,y_values)\n",
    "plt.plot(x_values,regress_values,\"r-\")\n",
    "plt.annotate(line_eq,(-30,25),fontsize=15,color=\"red\")\n",
    "plt.title('Southern Hemisphere - Wind Speed (mph) vs. Latitude')\n",
    "plt.xlabel('Latitude')\n",
    "plt.ylabel('Wind Speed (mph)')\n",
    "print(f\"The r-value is: {rvalue}\")\n",
    "plt.show()\n",
    "plt.savefig(\"Output_Data/SouthWindSpeedVsLat.png\")"
   ]
  },
  {
   "cell_type": "markdown",
   "metadata": {},
   "source": [
    "Scatterplot compares windspeed of the southern hemisphere to latitude - once again little relationship between latitude and windspeed"
   ]
  },
  {
   "cell_type": "code",
   "execution_count": null,
   "metadata": {},
   "outputs": [],
   "source": []
  }
 ],
 "metadata": {
  "kernelspec": {
   "display_name": "Python [conda env:PythonData] *",
   "language": "python",
   "name": "conda-env-PythonData-py"
  },
  "language_info": {
   "codemirror_mode": {
    "name": "ipython",
    "version": 3
   },
   "file_extension": ".py",
   "mimetype": "text/x-python",
   "name": "python",
   "nbconvert_exporter": "python",
   "pygments_lexer": "ipython3",
   "version": "3.7.1"
  }
 },
 "nbformat": 4,
 "nbformat_minor": 4
}
